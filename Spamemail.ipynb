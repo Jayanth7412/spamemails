{
 "cells": [
  {
   "cell_type": "code",
   "execution_count": 25,
   "metadata": {},
   "outputs": [],
   "source": [
    "import numpy as np\n",
    "import pandas as pd\n",
    "from sklearn.preprocessing import StandardScaler as ss\n",
    "from sklearn.utils import shuffle\n",
    "import torch"
   ]
  },
  {
   "cell_type": "code",
   "execution_count": 26,
   "metadata": {},
   "outputs": [
    {
     "name": "stdout",
     "output_type": "stream",
     "text": [
      "1813\n",
      "2788\n"
     ]
    }
   ],
   "source": [
    "data = pd.read_csv(\"./spambase_csv.csv\").dropna()\n",
    "data = shuffle(data)\n",
    "\n",
    "labels = data[\"class\"]\n",
    "unique_labels = labels.unique()\n",
    "for i in unique_labels:\n",
    "    print(sum(labels == i))\n",
    "\n",
    "labels = np.array(labels).reshape(-1,1)\n",
    "features = data.drop([\"class\"],axis=1)\n",
    "features = ss().fit_transform(features)\n"
   ]
  },
  {
   "cell_type": "code",
   "execution_count": 27,
   "metadata": {},
   "outputs": [
    {
     "name": "stdout",
     "output_type": "stream",
     "text": [
      "torch.Size([4601, 57]) torch.Size([4601, 1])\n"
     ]
    }
   ],
   "source": [
    "labels = torch.tensor(labels,dtype = torch.float32)\n",
    "features = torch.tensor(np.array(features),dtype = torch.float32)\n",
    "print(features.shape,labels.shape)"
   ]
  },
  {
   "cell_type": "code",
   "execution_count": 28,
   "metadata": {},
   "outputs": [],
   "source": [
    "model = torch.nn.Sequential(\n",
    "    torch.nn.Linear(57,40),\n",
    "    torch.nn.ReLU(),\n",
    "    torch.nn.Linear(40,20),\n",
    "    torch.nn.ReLU(),\n",
    "    torch.nn.Linear(20,10),\n",
    "    torch.nn.ReLU(),\n",
    "    torch.nn.Linear(10,1),\n",
    "    torch.nn.Sigmoid()\n",
    ")\n",
    "\n",
    "preds = model(features)"
   ]
  },
  {
   "cell_type": "code",
   "execution_count": 29,
   "metadata": {},
   "outputs": [],
   "source": [
    "loss_fn = torch.nn.BCELoss()\n",
    "opt= torch.optim.SGD(model.parameters(),lr=0.01)"
   ]
  },
  {
   "cell_type": "code",
   "execution_count": 30,
   "metadata": {},
   "outputs": [
    {
     "name": "stdout",
     "output_type": "stream",
     "text": [
      "Loss : 0.6634271144866943\n",
      "Accuracy : 60.6 %\n",
      "Loss : 0.4503747820854187\n",
      "Accuracy : 85.76 %\n",
      "Loss : 0.205284982919693\n",
      "Accuracy : 93.26 %\n",
      "Loss : 0.16401498019695282\n",
      "Accuracy : 94.04 %\n",
      "Loss : 0.1459115445613861\n",
      "Accuracy : 94.91 %\n",
      "Loss : 0.13236390054225922\n",
      "Accuracy : 95.31 %\n",
      "Loss : 0.12047551572322845\n",
      "Accuracy : 95.54 %\n",
      "Loss : 0.10993407666683197\n",
      "Accuracy : 95.98 %\n",
      "Loss : 0.10009505599737167\n",
      "Accuracy : 96.37 %\n",
      "Loss : 0.09107634425163269\n",
      "Accuracy : 96.78 %\n"
     ]
    }
   ],
   "source": [
    "from torch import no_grad\n",
    "epochs=10000\n",
    "for epoch in range(epochs):\n",
    "    preds=model(features)\n",
    "    loss=loss_fn(preds,labels)\n",
    "    loss.backward()\n",
    "    opt.step()\n",
    "    opt.zero_grad()\n",
    "    \n",
    "    with torch.no_grad():\n",
    "        if (epoch+1)%(epochs//10) == 0:\n",
    "            right = 0\n",
    "            for i in range(len(preds)):\n",
    "                if preds[i][0] >= 0.5:\n",
    "                    preds[i][0] = 1\n",
    "                else:\n",
    "                    preds[i][0] = 0\n",
    "\n",
    "                if preds[i][0] == labels[i][0]:\n",
    "                    right += 1\n",
    "            print(f\"Loss : {loss}\")\n",
    "            print(f\"Accuracy :\",round(right * 100/ len(preds), 2),\"%\")"
   ]
  },
  {
   "cell_type": "code",
   "execution_count": 31,
   "metadata": {},
   "outputs": [],
   "source": [
    "torch.save(model.state_dict(),\"SpamEmail_weights.pth\")"
   ]
  },
  {
   "cell_type": "code",
   "execution_count": 32,
   "metadata": {},
   "outputs": [
    {
     "name": "stdout",
     "output_type": "stream",
     "text": [
      "tensor([7.2474e-12], grad_fn=<SigmoidBackward0>) (tensor([0]),)\n"
     ]
    }
   ],
   "source": [
    "\n",
    "pred = model(features[150])\n",
    "i = torch.where(pred == pred.max())\n",
    "print(pred,i)"
   ]
  }
 ],
 "metadata": {
  "kernelspec": {
   "display_name": "Python 3.8.10 64-bit (windows store)",
   "language": "python",
   "name": "python3"
  },
  "language_info": {
   "codemirror_mode": {
    "name": "ipython",
    "version": 3
   },
   "file_extension": ".py",
   "mimetype": "text/x-python",
   "name": "python",
   "nbconvert_exporter": "python",
   "pygments_lexer": "ipython3",
   "version": "3.8.10"
  },
  "orig_nbformat": 4,
  "vscode": {
   "interpreter": {
    "hash": "ecbe764c402a74c9c85f4c67e8ec6f24dc6b9bc341300af706a517cc170f4d3e"
   }
  }
 },
 "nbformat": 4,
 "nbformat_minor": 2
}
